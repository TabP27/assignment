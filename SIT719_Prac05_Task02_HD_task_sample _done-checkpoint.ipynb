{
 "cells": [
  {
   "cell_type": "markdown",
   "source": [
    "# SECTION 1: DECLARE THE MODULES"
   ],
   "metadata": {}
  },
  {
   "cell_type": "code",
   "execution_count": 4,
   "source": [
    "#\r\n",
    "import os\r\n",
    "from collections import defaultdict\r\n",
    "import pandas as pd\r\n",
    "import numpy as np\r\n",
    "import matplotlib.pyplot as plt\r\n",
    "\r\n",
    "import warnings\r\n",
    "warnings.filterwarnings('ignore')"
   ],
   "outputs": [],
   "metadata": {}
  },
  {
   "cell_type": "markdown",
   "source": [
    "# SECTION 2: Data import and preprocess\n",
    "#Run this but dont worry if it does not make any sense Jump to SECTION 3 that is related to your HD task."
   ],
   "metadata": {}
  },
  {
   "cell_type": "code",
   "execution_count": 6,
   "source": [
    "!pip install wget\r\n",
    "import wget\r\n",
    "    \r\n",
    "link_to_data = 'https://raw.githubusercontent.com/SIT719/2020-S2/master/data/Week_5_NSL-KDD-Dataset/training_attack_types.txt?raw=true'\r\n",
    "DataSet = wget.download(link_to_data) "
   ],
   "outputs": [
    {
     "output_type": "stream",
     "name": "stdout",
     "text": [
      "Requirement already satisfied: wget in c:\\users\\tp00\\anaconda3\\lib\\site-packages (3.2)\n"
     ]
    }
   ],
   "metadata": {}
  },
  {
   "cell_type": "code",
   "execution_count": 8,
   "source": [
    "header_names = ['duration', 'protocol_type', 'service', 'flag', 'src_bytes', 'dst_bytes', 'land', 'wrong_fragment', 'urgent', 'hot', 'num_failed_logins', 'logged_in', 'num_compromised', 'root_shell', 'su_attempted', 'num_root', 'num_file_creations', 'num_shells', 'num_access_files', 'num_outbound_cmds', 'is_host_login', 'is_guest_login', 'count', 'srv_count', 'serror_rate', 'srv_serror_rate', 'rerror_rate', 'srv_rerror_rate', 'same_srv_rate', 'diff_srv_rate', 'srv_diff_host_rate', 'dst_host_count', 'dst_host_srv_count', 'dst_host_same_srv_rate', 'dst_host_diff_srv_rate', 'dst_host_same_src_port_rate', 'dst_host_srv_diff_host_rate', 'dst_host_serror_rate', 'dst_host_srv_serror_rate', 'dst_host_rerror_rate', 'dst_host_srv_rerror_rate', 'attack_type', 'success_pred']\r\n",
    "\r\n",
    "\r\n",
    "# Differentiating between nominal, binary, and numeric features\r\n",
    "\r\n",
    "# root_shell is marked as a continuous feature in the kddcup.names \r\n",
    "# file, but it is supposed to be a binary feature according to the \r\n",
    "# dataset documentation\r\n",
    "\r\n",
    "# training_attack_types.txt maps each of the 22 different attacks to 1 of 4 categories\r\n",
    "# file obtained from http://kdd.ics.uci.edu/databases/kddcup99/training_attack_types\r\n",
    "\r\n",
    "col_names = np.array(header_names)\r\n",
    "\r\n",
    "nominal_idx = [1, 2, 3]\r\n",
    "binary_idx = [6, 11, 13, 14, 20, 21]\r\n",
    "numeric_idx = list(set(range(41)).difference(nominal_idx).difference(binary_idx))\r\n",
    "\r\n",
    "nominal_cols = col_names[nominal_idx].tolist()\r\n",
    "binary_cols = col_names[binary_idx].tolist()\r\n",
    "numeric_cols = col_names[numeric_idx].tolist()"
   ],
   "outputs": [],
   "metadata": {}
  },
  {
   "cell_type": "code",
   "execution_count": 11,
   "source": [
    "# training_attack_types.txt maps each of the 22 different attacks to 1 of 4 categories\r\n",
    "# file obtained from http://kdd.ics.uci.edu/databases/kddcup99/training_attack_types\r\n",
    "\r\n",
    "category = defaultdict(list)\r\n",
    "category['benign'].append('normal')\r\n",
    "\r\n",
    "with open(DataSet, 'r') as f:\r\n",
    "    for line in f.readlines():\r\n",
    "        attack, cat = line.strip().split(' ')\r\n",
    "        category[cat].append(attack)\r\n",
    "\r\n",
    "attack_mapping = dict((v,k) for k in category for v in category[k])"
   ],
   "outputs": [],
   "metadata": {}
  },
  {
   "cell_type": "code",
   "execution_count": 15,
   "source": [
    "attack_mapping"
   ],
   "outputs": [
    {
     "output_type": "execute_result",
     "data": {
      "text/plain": [
       "{'normal': 'benign',\n",
       " 'apache2': 'dos',\n",
       " 'back': 'dos',\n",
       " 'mailbomb': 'dos',\n",
       " 'processtable': 'dos',\n",
       " 'snmpgetattack': 'dos',\n",
       " 'teardrop': 'dos',\n",
       " 'smurf': 'dos',\n",
       " 'land': 'dos',\n",
       " 'neptune': 'dos',\n",
       " 'pod': 'dos',\n",
       " 'udpstorm': 'dos',\n",
       " 'ps': 'u2r',\n",
       " 'buffer_overflow': 'u2r',\n",
       " 'perl': 'u2r',\n",
       " 'rootkit': 'u2r',\n",
       " 'loadmodule': 'u2r',\n",
       " 'xterm': 'u2r',\n",
       " 'sqlattack': 'u2r',\n",
       " 'httptunnel': 'u2r',\n",
       " 'ftp_write': 'r2l',\n",
       " 'guess_passwd': 'r2l',\n",
       " 'snmpguess': 'r2l',\n",
       " 'imap': 'r2l',\n",
       " 'spy': 'r2l',\n",
       " 'warezclient': 'r2l',\n",
       " 'warezmaster': 'r2l',\n",
       " 'multihop': 'r2l',\n",
       " 'phf': 'r2l',\n",
       " 'named': 'r2l',\n",
       " 'sendmail': 'r2l',\n",
       " 'xlock': 'r2l',\n",
       " 'xsnoop': 'r2l',\n",
       " 'worm': 'probe',\n",
       " 'nmap': 'probe',\n",
       " 'ipsweep': 'probe',\n",
       " 'portsweep': 'probe',\n",
       " 'satan': 'probe',\n",
       " 'mscan': 'probe',\n",
       " 'saint': 'probe'}"
      ]
     },
     "metadata": {},
     "execution_count": 15
    }
   ],
   "metadata": {}
  },
  {
   "cell_type": "code",
   "execution_count": 19,
   "source": [
    "#Processing Training Data\r\n",
    "\r\n",
    "train_file='https://raw.githubusercontent.com/SIT719/2020-S2/master/data/Week_5_NSL-KDD-Dataset/KDDTrain%2B.txt'\r\n",
    "\r\n",
    "\r\n",
    "\r\n",
    "train_df = pd.read_csv(train_file, names=header_names)\r\n",
    "\r\n",
    "train_df['attack_category'] = train_df['attack_type'] \\\r\n",
    "                                .map(lambda x: attack_mapping[x])\r\n",
    "\r\n",
    "train_df.drop(['success_pred'], axis=1, inplace=True)\r\n",
    "\r\n",
    "\r\n",
    "\r\n",
    "\r\n"
   ],
   "outputs": [],
   "metadata": {}
  },
  {
   "cell_type": "code",
   "execution_count": 23,
   "source": [
    "#Processing test Data\r\n",
    "test_file='https://raw.githubusercontent.com/SIT719/2020-S2/master/data/Week_5_NSL-KDD-Dataset/KDDTest%2B.txt'\r\n",
    "\r\n",
    "test_df = pd.read_csv(test_file, names=header_names)\r\n",
    "test_df['attack_category'] = test_df['attack_type'] \\\r\n",
    "                                .map(lambda x: attack_mapping[x])\r\n",
    "test_df.drop(['success_pred'], axis=1, inplace=True)"
   ],
   "outputs": [],
   "metadata": {}
  },
  {
   "cell_type": "code",
   "execution_count": 27,
   "source": [
    "train_attack_types = train_df['attack_type'].value_counts()\r\n",
    "train_attack_cats = train_df['attack_category'].value_counts()\r\n",
    "\r\n",
    "test_attack_types = test_df['attack_type'].value_counts()\r\n",
    "test_attack_cats = test_df['attack_category'].value_counts()\r\n",
    "\r\n",
    "train_attack_types.plot(kind='barh', figsize=(20,10), fontsize=20)\r\n",
    "\r\n",
    "train_attack_cats.plot(kind='barh', figsize=(20,10), fontsize=30)\r\n",
    "\r\n",
    "train_df[binary_cols].describe().transpose()\r\n",
    "train_df.groupby(['su_attempted']).size()\r\n",
    "train_df['su_attempted'].replace(2, 0, inplace=True)\r\n",
    "test_df['su_attempted'].replace(2, 0, inplace=True)\r\n",
    "train_df.groupby(['su_attempted']).size()\r\n",
    "train_df.groupby(['num_outbound_cmds']).size()\r\n",
    "\r\n",
    "#Now, that's not a very useful feature - let's drop it from the dataset\r\n",
    "\r\n",
    "train_df.drop('num_outbound_cmds', axis = 1, inplace=True)\r\n",
    "test_df.drop('num_outbound_cmds', axis = 1, inplace=True)\r\n",
    "numeric_cols.remove('num_outbound_cmds')\r\n",
    "\r\n",
    "\r\n",
    "\r\n",
    "#Data Preparation\r\n",
    "\r\n",
    "train_Y = train_df['attack_category']\r\n",
    "train_x_raw = train_df.drop(['attack_category','attack_type'], axis=1)\r\n",
    "test_Y = test_df['attack_category']\r\n",
    "test_x_raw = test_df.drop(['attack_category','attack_type'], axis=1)\r\n",
    "\r\n",
    "\r\n",
    "combined_df_raw = pd.concat([train_x_raw, test_x_raw])\r\n",
    "combined_df = pd.get_dummies(combined_df_raw, columns=nominal_cols, drop_first=True)\r\n",
    "\r\n",
    "train_x = combined_df[:len(train_x_raw)]\r\n",
    "test_x = combined_df[len(train_x_raw):]\r\n",
    "\r\n",
    "# Store dummy variable feature names\r\n",
    "dummy_variables = list(set(train_x)-set(combined_df_raw))\r\n",
    "\r\n",
    "#execute the commands in console\r\n",
    "train_x.describe()\r\n",
    "train_x['duration'].describe()\r\n",
    "# Experimenting with StandardScaler on the single 'duration' feature\r\n",
    "from sklearn.preprocessing import StandardScaler\r\n",
    "\r\n",
    "durations = train_x['duration'].values.reshape(-1, 1)\r\n",
    "standard_scaler = StandardScaler().fit(durations)\r\n",
    "scaled_durations = standard_scaler.transform(durations)\r\n",
    "pd.Series(scaled_durations.flatten()).describe()\r\n",
    "\r\n",
    "# Experimenting with MinMaxScaler on the single 'duration' feature\r\n",
    "from sklearn.preprocessing import MinMaxScaler\r\n",
    "\r\n",
    "min_max_scaler = MinMaxScaler().fit(durations)\r\n",
    "min_max_scaled_durations = min_max_scaler.transform(durations)\r\n",
    "pd.Series(min_max_scaled_durations.flatten()).describe()\r\n",
    "\r\n",
    "# Experimenting with RobustScaler on the single 'duration' feature\r\n",
    "from sklearn.preprocessing import RobustScaler\r\n",
    "\r\n",
    "min_max_scaler = RobustScaler().fit(durations)\r\n",
    "robust_scaled_durations = min_max_scaler.transform(durations)\r\n",
    "pd.Series(robust_scaled_durations.flatten()).describe()\r\n",
    "\r\n",
    "# Experimenting with MaxAbsScaler on the single 'duration' feature\r\n",
    "from sklearn.preprocessing import MaxAbsScaler\r\n",
    "\r\n",
    "max_Abs_scaler = MaxAbsScaler().fit(durations)\r\n",
    "robust_scaled_durations = max_Abs_scaler.transform(durations)\r\n",
    "pd.Series(robust_scaled_durations.flatten()).describe()\r\n",
    "\r\n",
    "# Let's proceed with StandardScaler- Apply to all the numeric columns\r\n",
    "\r\n",
    "standard_scaler = StandardScaler().fit(train_x[numeric_cols])\r\n",
    "\r\n",
    "train_x[numeric_cols] = \\\r\n",
    "    standard_scaler.transform(train_x[numeric_cols])\r\n",
    "\r\n",
    "test_x[numeric_cols] = \\\r\n",
    "    standard_scaler.transform(test_x[numeric_cols])\r\n",
    "    \r\n",
    "train_x.describe()\r\n",
    "\r\n",
    "\r\n",
    "\r\n",
    "train_Y_bin = train_Y.apply(lambda x: 0 if x is 'benign' else 1)\r\n",
    "test_Y_bin = test_Y.apply(lambda x: 0 if x is 'benign' else 1)\r\n"
   ],
   "outputs": [
    {
     "output_type": "display_data",
     "data": {
      "image/png": "[encoded data removed]",
      "text/plain": [
       "<Figure size 1440x720 with 1 Axes>"
      ]
     },
     "metadata": {
      "needs_background": "light"
     }
    }
   ],
   "metadata": {
    "scrolled": true
   }
  },
  {
   "cell_type": "markdown",
   "source": [
    "# SECTION 3: Multi class classification\n",
    "#This is the section where you have to add other algorithms, tune algorithms and visualize to compare and analyze algorithms"
   ],
   "metadata": {}
  },
  {
   "cell_type": "code",
   "execution_count": 43,
   "source": [
    "# 5-class classification version\r\n",
    "from sklearn.tree import DecisionTreeClassifier\r\n",
    "from sklearn.metrics import confusion_matrix, zero_one_loss\r\n",
    "\r\n",
    "classifier = DecisionTreeClassifier(random_state=17)\r\n",
    "classifier.fit(train_x, train_Y)\r\n",
    "\r\n",
    "pred_y = classifier.predict(test_x)\r\n",
    "\r\n",
    "results = confusion_matrix(test_Y, pred_y)\r\n",
    "error = zero_one_loss(test_Y, pred_y)\r\n",
    "\r\n",
    "print(results)\r\n",
    "print(error)\r\n"
   ],
   "outputs": [
    {
     "output_type": "stream",
     "name": "stdout",
     "text": [
      "[[9365   56  289    1    0]\n",
      " [1541 5998   97    0    0]\n",
      " [ 677  220 1526    0    0]\n",
      " [2278    1   14  277    4]\n",
      " [ 175    0    5    5   15]]\n",
      "0.2378903477643719\n"
     ]
    }
   ],
   "metadata": {}
  },
  {
   "cell_type": "code",
   "execution_count": 61,
   "source": [
    "df_results = pd.DataFrame(results)"
   ],
   "outputs": [],
   "metadata": {}
  },
  {
   "cell_type": "code",
   "execution_count": null,
   "source": [],
   "outputs": [],
   "metadata": {}
  }
 ],
 "metadata": {
  "kernelspec": {
   "name": "python3",
   "display_name": "Python 3.8.3 64-bit"
  },
  "language_info": {
   "codemirror_mode": {
    "name": "ipython",
    "version": 3
   },
   "file_extension": ".py",
   "mimetype": "text/x-python",
   "name": "python",
   "nbconvert_exporter": "python",
   "pygments_lexer": "ipython3",
   "version": "3.8.3"
  },
  "interpreter": {
   "hash": "471e6e346fd6b05ca3318f70961004f5c09650a41ebc0fa5cd4a247fecd071e0"
  }
 },
 "nbformat": 4,
 "nbformat_minor": 4
}