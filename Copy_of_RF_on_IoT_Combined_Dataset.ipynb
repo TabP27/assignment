{
  "nbformat": 4,
  "nbformat_minor": 0,
  "metadata": {
    "colab": {
      "name": "Copy of RF on IoT Combined Dataset.ipynb",
      "provenance": [],
      "collapsed_sections": []
    },
    "kernelspec": {
      "display_name": "Python 3",
      "language": "python",
      "name": "python3"
    },
    "language_info": {
      "codemirror_mode": {
        "name": "ipython",
        "version": 3
      },
      "file_extension": ".py",
      "mimetype": "text/x-python",
      "name": "python",
      "nbconvert_exporter": "python",
      "pygments_lexer": "ipython3",
      "version": "3.7.3"
    }
  },
  "cells": [
    {
      "cell_type": "markdown",
      "metadata": {
        "id": "y61xJzKhjsAt"
      },
      "source": [
        "# **Random Forest(RF) on IoT Combined Dataset**"
      ]
    },
    {
      "cell_type": "markdown",
      "metadata": {
        "id": "SSWJ-I3UKZ6h"
      },
      "source": [
        "****Importing libraries****"
      ]
    },
    {
      "cell_type": "code",
      "metadata": {
        "id": "AwMrsTn_KVhy"
      },
      "source": [
        "import timeit\n",
        "import pandas as pd\n",
        "import numpy as np\n",
        "import seaborn as sns\n",
        "import matplotlib.pyplot as plt\n",
        "from sklearn.model_selection import train_test_split\n",
        "from sklearn.ensemble import RandomForestClassifier\n",
        "from sklearn import metrics\n",
        "from sklearn.metrics import classification_report, confusion_matrix\n",
        "from sklearn.metrics import roc_curve\n",
        "from sklearn.metrics import roc_auc_score\n",
        "import warnings\n",
        "%matplotlib inline\n",
        "warnings.filterwarnings('ignore')\n",
        "#warnings.filterwarnings('always') "
      ],
      "execution_count": null,
      "outputs": []
    },
    {
      "cell_type": "markdown",
      "metadata": {
        "id": "VVVIs7G_KdTq"
      },
      "source": [
        "**Upload File**"
      ]
    },
    {
      "cell_type": "code",
      "metadata": {
        "id": "24Ek4cCej76I"
      },
      "source": [
        "#uploaded = files.upload()"
      ],
      "execution_count": null,
      "outputs": []
    },
    {
      "cell_type": "markdown",
      "metadata": {
        "id": "4jmo-htGGdCD"
      },
      "source": [
        "**Importing the Dataset**"
      ]
    },
    {
      "cell_type": "code",
      "metadata": {
        "id": "AsvTp_w-l-Km",
        "colab": {
          "resources": {
            "http://localhost:8080/nbextensions/google.colab/files.js": {
              "data": "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",
              "ok": true,
              "headers": [
                [
                  "content-type",
                  "application/javascript"
                ]
              ],
              "status": 200,
              "status_text": ""
            }
          },
          "base_uri": "https://localhost:8080/",
          "height": 73
        },
        "outputId": "fe18dcb6-d011-43b7-8daf-654749708c67"
      },
      "source": [
        "from google.colab import files\n",
        "uploaded = files.upload()\n",
        "import pandas as pd\n",
        "\n",
        "import io\n",
        "\n",
        "dataset = pd.read_csv(io.BytesIO(uploaded['Processed_Combined_IoT_dataset.csv']))"
      ],
      "execution_count": null,
      "outputs": [
        {
          "output_type": "display_data",
          "data": {
            "text/html": [
              "\n",
              "     <input type=\"file\" id=\"files-e9aa94a8-c877-49ef-806b-fb26d87f3e01\" name=\"files[]\" multiple disabled\n",
              "        style=\"border:none\" />\n",
              "     <output id=\"result-e9aa94a8-c877-49ef-806b-fb26d87f3e01\">\n",
              "      Upload widget is only available when the cell has been executed in the\n",
              "      current browser session. Please rerun this cell to enable.\n",
              "      </output>\n",
              "      <script src=\"/nbextensions/google.colab/files.js\"></script> "
            ],
            "text/plain": [
              "<IPython.core.display.HTML object>"
            ]
          },
          "metadata": {
            "tags": []
          }
        },
        {
          "output_type": "stream",
          "text": [
            "Saving Processed_Combined_IoT_dataset.csv to Processed_Combined_IoT_dataset (1).csv\n"
          ],
          "name": "stdout"
        }
      ]
    },
    {
      "cell_type": "markdown",
      "metadata": {
        "id": "2BWWYGPNGhst"
      },
      "source": [
        "**Exploratory Data Analysis**"
      ]
    },
    {
      "cell_type": "code",
      "metadata": {
        "colab": {
          "base_uri": "https://localhost:8080/",
          "height": 220
        },
        "id": "0hEM0bOClrjL",
        "outputId": "281ebb72-0fc1-4ae4-9170-c89229b3e26a"
      },
      "source": [
        "dataset.head()"
      ],
      "execution_count": null,
      "outputs": [
        {
          "output_type": "execute_result",
          "data": {
            "text/html": [
              "<div>\n",
              "<style scoped>\n",
              "    .dataframe tbody tr th:only-of-type {\n",
              "        vertical-align: middle;\n",
              "    }\n",
              "\n",
              "    .dataframe tbody tr th {\n",
              "        vertical-align: top;\n",
              "    }\n",
              "\n",
              "    .dataframe thead th {\n",
              "        text-align: right;\n",
              "    }\n",
              "</style>\n",
              "<table border=\"1\" class=\"dataframe\">\n",
              "  <thead>\n",
              "    <tr style=\"text-align: right;\">\n",
              "      <th></th>\n",
              "      <th>FC1_Read_Input_Register</th>\n",
              "      <th>FC2_Read_Discrete_Value</th>\n",
              "      <th>FC3_Read_Holding_Register</th>\n",
              "      <th>FC4_Read_Coil</th>\n",
              "      <th>current_temperature</th>\n",
              "      <th>door_state</th>\n",
              "      <th>fridge_temperature</th>\n",
              "      <th>humidity</th>\n",
              "      <th>latitude</th>\n",
              "      <th>light_status</th>\n",
              "      <th>longitude</th>\n",
              "      <th>motion_status</th>\n",
              "      <th>pressure</th>\n",
              "      <th>sphone_signal</th>\n",
              "      <th>temp_condition</th>\n",
              "      <th>temperature</th>\n",
              "      <th>thermostat_status</th>\n",
              "      <th>label</th>\n",
              "    </tr>\n",
              "  </thead>\n",
              "  <tbody>\n",
              "    <tr>\n",
              "      <th>0</th>\n",
              "      <td>0.495216</td>\n",
              "      <td>0.499092</td>\n",
              "      <td>0.488897</td>\n",
              "      <td>0.499405</td>\n",
              "      <td>0.344399</td>\n",
              "      <td>0</td>\n",
              "      <td>0.930769</td>\n",
              "      <td>0.462511</td>\n",
              "      <td>0.008217</td>\n",
              "      <td>0</td>\n",
              "      <td>0.008112</td>\n",
              "      <td>0</td>\n",
              "      <td>0.533556</td>\n",
              "      <td>0.666667</td>\n",
              "      <td>0.2</td>\n",
              "      <td>0.517307</td>\n",
              "      <td>1</td>\n",
              "      <td>0</td>\n",
              "    </tr>\n",
              "    <tr>\n",
              "      <th>1</th>\n",
              "      <td>0.495216</td>\n",
              "      <td>0.499092</td>\n",
              "      <td>0.488897</td>\n",
              "      <td>0.499405</td>\n",
              "      <td>0.344399</td>\n",
              "      <td>0</td>\n",
              "      <td>0.588462</td>\n",
              "      <td>0.462511</td>\n",
              "      <td>0.008217</td>\n",
              "      <td>0</td>\n",
              "      <td>0.008112</td>\n",
              "      <td>0</td>\n",
              "      <td>0.533556</td>\n",
              "      <td>0.666667</td>\n",
              "      <td>0.2</td>\n",
              "      <td>0.517307</td>\n",
              "      <td>1</td>\n",
              "      <td>0</td>\n",
              "    </tr>\n",
              "    <tr>\n",
              "      <th>2</th>\n",
              "      <td>0.495216</td>\n",
              "      <td>0.499092</td>\n",
              "      <td>0.488897</td>\n",
              "      <td>0.499405</td>\n",
              "      <td>0.344399</td>\n",
              "      <td>0</td>\n",
              "      <td>0.076923</td>\n",
              "      <td>0.462511</td>\n",
              "      <td>0.008217</td>\n",
              "      <td>0</td>\n",
              "      <td>0.008112</td>\n",
              "      <td>0</td>\n",
              "      <td>0.533556</td>\n",
              "      <td>0.666667</td>\n",
              "      <td>0.8</td>\n",
              "      <td>0.517307</td>\n",
              "      <td>1</td>\n",
              "      <td>0</td>\n",
              "    </tr>\n",
              "    <tr>\n",
              "      <th>3</th>\n",
              "      <td>0.495216</td>\n",
              "      <td>0.499092</td>\n",
              "      <td>0.488897</td>\n",
              "      <td>0.499405</td>\n",
              "      <td>0.344399</td>\n",
              "      <td>0</td>\n",
              "      <td>0.292308</td>\n",
              "      <td>0.462511</td>\n",
              "      <td>0.008217</td>\n",
              "      <td>0</td>\n",
              "      <td>0.008112</td>\n",
              "      <td>0</td>\n",
              "      <td>0.533556</td>\n",
              "      <td>0.666667</td>\n",
              "      <td>0.8</td>\n",
              "      <td>0.517307</td>\n",
              "      <td>1</td>\n",
              "      <td>0</td>\n",
              "    </tr>\n",
              "    <tr>\n",
              "      <th>4</th>\n",
              "      <td>0.495216</td>\n",
              "      <td>0.499092</td>\n",
              "      <td>0.488897</td>\n",
              "      <td>0.499405</td>\n",
              "      <td>0.344399</td>\n",
              "      <td>0</td>\n",
              "      <td>0.746154</td>\n",
              "      <td>0.462511</td>\n",
              "      <td>0.008217</td>\n",
              "      <td>0</td>\n",
              "      <td>0.008112</td>\n",
              "      <td>0</td>\n",
              "      <td>0.533556</td>\n",
              "      <td>0.666667</td>\n",
              "      <td>0.2</td>\n",
              "      <td>0.517307</td>\n",
              "      <td>1</td>\n",
              "      <td>0</td>\n",
              "    </tr>\n",
              "  </tbody>\n",
              "</table>\n",
              "</div>"
            ],
            "text/plain": [
              "   FC1_Read_Input_Register  FC2_Read_Discrete_Value  ...  thermostat_status  label\n",
              "0                 0.495216                 0.499092  ...                  1      0\n",
              "1                 0.495216                 0.499092  ...                  1      0\n",
              "2                 0.495216                 0.499092  ...                  1      0\n",
              "3                 0.495216                 0.499092  ...                  1      0\n",
              "4                 0.495216                 0.499092  ...                  1      0\n",
              "\n",
              "[5 rows x 18 columns]"
            ]
          },
          "metadata": {
            "tags": []
          },
          "execution_count": 10
        }
      ]
    },
    {
      "cell_type": "code",
      "metadata": {
        "colab": {
          "base_uri": "https://localhost:8080/"
        },
        "id": "Bq4nVy0ILHdo",
        "outputId": "24567499-cdb8-4384-ac10-da8d045f6559"
      },
      "source": [
        "print(dataset.shape)"
      ],
      "execution_count": null,
      "outputs": [
        {
          "output_type": "stream",
          "text": [
            "(401119, 18)\n"
          ],
          "name": "stdout"
        }
      ]
    },
    {
      "cell_type": "code",
      "metadata": {
        "colab": {
          "base_uri": "https://localhost:8080/"
        },
        "id": "gJVXzqugDdWd",
        "outputId": "257c8116-2b75-462f-a61a-33a54c11733e"
      },
      "source": [
        "print(list(dataset.columns))"
      ],
      "execution_count": null,
      "outputs": [
        {
          "output_type": "stream",
          "text": [
            "['FC1_Read_Input_Register', 'FC2_Read_Discrete_Value', 'FC3_Read_Holding_Register', 'FC4_Read_Coil', 'current_temperature', 'door_state', 'fridge_temperature', 'humidity', 'latitude', 'light_status', 'longitude', 'motion_status', 'pressure', 'sphone_signal', 'temp_condition', 'temperature', 'thermostat_status', 'label']\n"
          ],
          "name": "stdout"
        }
      ]
    },
    {
      "cell_type": "code",
      "metadata": {
        "id": "kRuslnJmZbNZ",
        "colab": {
          "base_uri": "https://localhost:8080/"
        },
        "outputId": "532ed11c-0ae4-4d4a-cd1c-2d08d7539f1d"
      },
      "source": [
        "target_cols=list(dataset.columns[-1:])\n",
        "target_cols"
      ],
      "execution_count": null,
      "outputs": [
        {
          "output_type": "execute_result",
          "data": {
            "text/plain": [
              "['label']"
            ]
          },
          "metadata": {
            "tags": []
          },
          "execution_count": 13
        }
      ]
    },
    {
      "cell_type": "code",
      "metadata": {
        "colab": {
          "base_uri": "https://localhost:8080/"
        },
        "id": "qDuBF5llF833",
        "outputId": "0d1e2be8-0ccd-416e-fa78-61d7dbc791b9"
      },
      "source": [
        "feature_cols= list(dataset.columns[:-1])\n",
        "feature_cols"
      ],
      "execution_count": null,
      "outputs": [
        {
          "output_type": "execute_result",
          "data": {
            "text/plain": [
              "['FC1_Read_Input_Register',\n",
              " 'FC2_Read_Discrete_Value',\n",
              " 'FC3_Read_Holding_Register',\n",
              " 'FC4_Read_Coil',\n",
              " 'current_temperature',\n",
              " 'door_state',\n",
              " 'fridge_temperature',\n",
              " 'humidity',\n",
              " 'latitude',\n",
              " 'light_status',\n",
              " 'longitude',\n",
              " 'motion_status',\n",
              " 'pressure',\n",
              " 'sphone_signal',\n",
              " 'temp_condition',\n",
              " 'temperature',\n",
              " 'thermostat_status']"
            ]
          },
          "metadata": {
            "tags": []
          },
          "execution_count": 14
        }
      ]
    },
    {
      "cell_type": "markdown",
      "metadata": {
        "id": "poF7HvW6DvVp"
      },
      "source": [
        "**Split Dataset**"
      ]
    },
    {
      "cell_type": "code",
      "metadata": {
        "id": "lHM3bLWKHel7"
      },
      "source": [
        "#split dataset in features and target variable\n",
        "X = dataset.drop('label', axis=1) # Features\n",
        "y = dataset['label'] # Target variable"
      ],
      "execution_count": null,
      "outputs": []
    },
    {
      "cell_type": "code",
      "metadata": {
        "colab": {
          "base_uri": "https://localhost:8080/",
          "height": 220
        },
        "id": "55_7-v6UdUQX",
        "outputId": "869974a7-2a84-4cd2-bdb8-bacd68ac8e0f"
      },
      "source": [
        "X.head()"
      ],
      "execution_count": null,
      "outputs": [
        {
          "output_type": "execute_result",
          "data": {
            "text/html": [
              "<div>\n",
              "<style scoped>\n",
              "    .dataframe tbody tr th:only-of-type {\n",
              "        vertical-align: middle;\n",
              "    }\n",
              "\n",
              "    .dataframe tbody tr th {\n",
              "        vertical-align: top;\n",
              "    }\n",
              "\n",
              "    .dataframe thead th {\n",
              "        text-align: right;\n",
              "    }\n",
              "</style>\n",
              "<table border=\"1\" class=\"dataframe\">\n",
              "  <thead>\n",
              "    <tr style=\"text-align: right;\">\n",
              "      <th></th>\n",
              "      <th>FC1_Read_Input_Register</th>\n",
              "      <th>FC2_Read_Discrete_Value</th>\n",
              "      <th>FC3_Read_Holding_Register</th>\n",
              "      <th>FC4_Read_Coil</th>\n",
              "      <th>current_temperature</th>\n",
              "      <th>door_state</th>\n",
              "      <th>fridge_temperature</th>\n",
              "      <th>humidity</th>\n",
              "      <th>latitude</th>\n",
              "      <th>light_status</th>\n",
              "      <th>longitude</th>\n",
              "      <th>motion_status</th>\n",
              "      <th>pressure</th>\n",
              "      <th>sphone_signal</th>\n",
              "      <th>temp_condition</th>\n",
              "      <th>temperature</th>\n",
              "      <th>thermostat_status</th>\n",
              "    </tr>\n",
              "  </thead>\n",
              "  <tbody>\n",
              "    <tr>\n",
              "      <th>0</th>\n",
              "      <td>0.495216</td>\n",
              "      <td>0.499092</td>\n",
              "      <td>0.488897</td>\n",
              "      <td>0.499405</td>\n",
              "      <td>0.344399</td>\n",
              "      <td>0</td>\n",
              "      <td>0.930769</td>\n",
              "      <td>0.462511</td>\n",
              "      <td>0.008217</td>\n",
              "      <td>0</td>\n",
              "      <td>0.008112</td>\n",
              "      <td>0</td>\n",
              "      <td>0.533556</td>\n",
              "      <td>0.666667</td>\n",
              "      <td>0.2</td>\n",
              "      <td>0.517307</td>\n",
              "      <td>1</td>\n",
              "    </tr>\n",
              "    <tr>\n",
              "      <th>1</th>\n",
              "      <td>0.495216</td>\n",
              "      <td>0.499092</td>\n",
              "      <td>0.488897</td>\n",
              "      <td>0.499405</td>\n",
              "      <td>0.344399</td>\n",
              "      <td>0</td>\n",
              "      <td>0.588462</td>\n",
              "      <td>0.462511</td>\n",
              "      <td>0.008217</td>\n",
              "      <td>0</td>\n",
              "      <td>0.008112</td>\n",
              "      <td>0</td>\n",
              "      <td>0.533556</td>\n",
              "      <td>0.666667</td>\n",
              "      <td>0.2</td>\n",
              "      <td>0.517307</td>\n",
              "      <td>1</td>\n",
              "    </tr>\n",
              "    <tr>\n",
              "      <th>2</th>\n",
              "      <td>0.495216</td>\n",
              "      <td>0.499092</td>\n",
              "      <td>0.488897</td>\n",
              "      <td>0.499405</td>\n",
              "      <td>0.344399</td>\n",
              "      <td>0</td>\n",
              "      <td>0.076923</td>\n",
              "      <td>0.462511</td>\n",
              "      <td>0.008217</td>\n",
              "      <td>0</td>\n",
              "      <td>0.008112</td>\n",
              "      <td>0</td>\n",
              "      <td>0.533556</td>\n",
              "      <td>0.666667</td>\n",
              "      <td>0.8</td>\n",
              "      <td>0.517307</td>\n",
              "      <td>1</td>\n",
              "    </tr>\n",
              "    <tr>\n",
              "      <th>3</th>\n",
              "      <td>0.495216</td>\n",
              "      <td>0.499092</td>\n",
              "      <td>0.488897</td>\n",
              "      <td>0.499405</td>\n",
              "      <td>0.344399</td>\n",
              "      <td>0</td>\n",
              "      <td>0.292308</td>\n",
              "      <td>0.462511</td>\n",
              "      <td>0.008217</td>\n",
              "      <td>0</td>\n",
              "      <td>0.008112</td>\n",
              "      <td>0</td>\n",
              "      <td>0.533556</td>\n",
              "      <td>0.666667</td>\n",
              "      <td>0.8</td>\n",
              "      <td>0.517307</td>\n",
              "      <td>1</td>\n",
              "    </tr>\n",
              "    <tr>\n",
              "      <th>4</th>\n",
              "      <td>0.495216</td>\n",
              "      <td>0.499092</td>\n",
              "      <td>0.488897</td>\n",
              "      <td>0.499405</td>\n",
              "      <td>0.344399</td>\n",
              "      <td>0</td>\n",
              "      <td>0.746154</td>\n",
              "      <td>0.462511</td>\n",
              "      <td>0.008217</td>\n",
              "      <td>0</td>\n",
              "      <td>0.008112</td>\n",
              "      <td>0</td>\n",
              "      <td>0.533556</td>\n",
              "      <td>0.666667</td>\n",
              "      <td>0.2</td>\n",
              "      <td>0.517307</td>\n",
              "      <td>1</td>\n",
              "    </tr>\n",
              "  </tbody>\n",
              "</table>\n",
              "</div>"
            ],
            "text/plain": [
              "   FC1_Read_Input_Register  ...  thermostat_status\n",
              "0                 0.495216  ...                  1\n",
              "1                 0.495216  ...                  1\n",
              "2                 0.495216  ...                  1\n",
              "3                 0.495216  ...                  1\n",
              "4                 0.495216  ...                  1\n",
              "\n",
              "[5 rows x 17 columns]"
            ]
          },
          "metadata": {
            "tags": []
          },
          "execution_count": 16
        }
      ]
    },
    {
      "cell_type": "code",
      "metadata": {
        "colab": {
          "base_uri": "https://localhost:8080/"
        },
        "id": "Qc42gmuXdYTE",
        "outputId": "662ea8fc-82e7-4773-b3d4-f4d935c18457"
      },
      "source": [
        "y.head()"
      ],
      "execution_count": null,
      "outputs": [
        {
          "output_type": "execute_result",
          "data": {
            "text/plain": [
              "0    0\n",
              "1    0\n",
              "2    0\n",
              "3    0\n",
              "4    0\n",
              "Name: label, dtype: int64"
            ]
          },
          "metadata": {
            "tags": []
          },
          "execution_count": 17
        }
      ]
    },
    {
      "cell_type": "markdown",
      "metadata": {
        "id": "1v471CZ0DpxX"
      },
      "source": [
        "**Splitting Data**"
      ]
    },
    {
      "cell_type": "code",
      "metadata": {
        "id": "Xt-6HOnsDngY"
      },
      "source": [
        "# Split dataset into training set and test set\n",
        "X_train, X_test, y_train, y_test = train_test_split(X, y, test_size=0.3, random_state=1) # 70% training and 30% test"
      ],
      "execution_count": null,
      "outputs": []
    },
    {
      "cell_type": "code",
      "metadata": {
        "colab": {
          "base_uri": "https://localhost:8080/"
        },
        "id": "QpwOt4T3JJwY",
        "outputId": "e84a7af3-dba8-4f56-ef55-eb850ad14d3c"
      },
      "source": [
        "# Check the shape of all of these\n",
        "print(\"X_train shape is : \", X_train.shape)\n",
        "print(\"X_test shape  is : \", X_test.shape)\n",
        "print(\"y_train shape is : \", y_train.shape)\n",
        "print(\"y_test shape is  : \", y_test.shape)"
      ],
      "execution_count": null,
      "outputs": [
        {
          "output_type": "stream",
          "text": [
            "X_train shape is :  (280783, 17)\n",
            "X_test shape  is :  (120336, 17)\n",
            "y_train shape is :  (280783,)\n",
            "y_test shape is  :  (120336,)\n"
          ],
          "name": "stdout"
        }
      ]
    },
    {
      "cell_type": "markdown",
      "metadata": {
        "id": "uu8yDYOAEZlI"
      },
      "source": [
        "**Building Model**"
      ]
    },
    {
      "cell_type": "code",
      "metadata": {
        "id": "aI8YKd80EgRn"
      },
      "source": [
        "#Calculate start time\n",
        "start = timeit.default_timer()\n",
        "\n",
        "#Create a Gaussian Classifier\n",
        "clf=RandomForestClassifier(n_estimators=100)\n",
        "\n",
        "#Train the model using the training sets y_pred=clf.predict(X_test)\n",
        "clf.fit(X_train,y_train)\n",
        "\n",
        "#Calculate Stop time\n",
        "stop = timeit.default_timer()\n",
        "train_time= stop - start"
      ],
      "execution_count": null,
      "outputs": []
    },
    {
      "cell_type": "code",
      "metadata": {
        "id": "zqTSnzBrE9sk"
      },
      "source": [
        "#Calculate start time\n",
        "start = timeit.default_timer()\n",
        "\n",
        "# Predict the model\n",
        "y_pred=clf.predict(X_test)\n",
        "\n",
        "#Calculate Stop time\n",
        "stop = timeit.default_timer()\n",
        "test_time= stop - start"
      ],
      "execution_count": null,
      "outputs": []
    },
    {
      "cell_type": "markdown",
      "metadata": {
        "id": "cGaWzP_KEnwY"
      },
      "source": [
        "**Evaluating Model**"
      ]
    },
    {
      "cell_type": "code",
      "metadata": {
        "id": "Z9FDpD4r8u33",
        "colab": {
          "base_uri": "https://localhost:8080/"
        },
        "outputId": "2143d962-a49d-4bdf-f276-97489365e601"
      },
      "source": [
        "print(confusion_matrix(y_test,y_pred))\n",
        "print(classification_report(y_test,y_pred))"
      ],
      "execution_count": null,
      "outputs": [
        {
          "output_type": "stream",
          "text": [
            "[[69918  3577]\n",
            " [12074 34767]]\n",
            "              precision    recall  f1-score   support\n",
            "\n",
            "           0       0.85      0.95      0.90     73495\n",
            "           1       0.91      0.74      0.82     46841\n",
            "\n",
            "    accuracy                           0.87    120336\n",
            "   macro avg       0.88      0.85      0.86    120336\n",
            "weighted avg       0.87      0.87      0.87    120336\n",
            "\n"
          ],
          "name": "stdout"
        }
      ]
    },
    {
      "cell_type": "code",
      "metadata": {
        "colab": {
          "base_uri": "https://localhost:8080/"
        },
        "id": "0dfwhoczEpdZ",
        "outputId": "9b0350b8-e551-47ae-b9fa-8bc40dfa98c1"
      },
      "source": [
        "# Model Accuracy: how often is the classifier correct?\n",
        "print(\"Accuracy:\",metrics.accuracy_score(y_test, y_pred))\n",
        "\n",
        "# Model Precision: what percentage of positive tuples are labeled as such?\n",
        "print(\"Precision:\",metrics.precision_score(y_test, y_pred))\n",
        "\n",
        "# Model Recall: what percentage of positive tuples are labelled as such?\n",
        "print(\"Recall:\",metrics.recall_score(y_test, y_pred))\n",
        "\n",
        "#Calculate F1 Score\n",
        "print(\"F1 Score:\",metrics.f1_score(y_test, y_pred))\n",
        "\n",
        "#Calculate Mean Absolute Error\n",
        "print(\"Mean Absolute Error:\",metrics.mean_absolute_error(y_test, y_pred))\n",
        "\n",
        "# kappa\n",
        "print(\"Cohens kappa:\", metrics.cohen_kappa_score(y_test, y_pred))\n",
        "\n",
        "# ROC AUC\n",
        "print(\"ROC AUC:\", metrics.roc_auc_score(y_test, y_pred))\n",
        "\n",
        "#Train time\n",
        "print('Train Time(s): ',train_time) \n",
        "\n",
        "#Test time\n",
        "print('Test Time(s): ',test_time)"
      ],
      "execution_count": null,
      "outputs": [
        {
          "output_type": "stream",
          "text": [
            "Accuracy: 0.8699391703230953\n",
            "Precision: 0.906712914667223\n",
            "Recall: 0.7422343673277684\n",
            "F1 Score: 0.816270470153196\n",
            "Mean Absolute Error: 0.13006082967690466\n",
            "Cohens kappa: 0.7171543214698913\n",
            "ROC AUC: 0.8467821948891376\n",
            "Train Time(s):  61.55782632599994\n",
            "Test Time(s):  3.501871888000096\n"
          ],
          "name": "stdout"
        }
      ]
    },
    {
      "cell_type": "code",
      "metadata": {
        "id": "2klKFpNU8u38"
      },
      "source": [
        ""
      ],
      "execution_count": null,
      "outputs": []
    }
  ]
}