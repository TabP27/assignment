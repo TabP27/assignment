{
  "nbformat": 4,
  "nbformat_minor": 0,
  "metadata": {
    "kernelspec": {
      "display_name": "Python 3",
      "language": "python",
      "name": "python3"
    },
    "language_info": {
      "codemirror_mode": {
        "name": "ipython",
        "version": 3
      },
      "file_extension": ".py",
      "mimetype": "text/x-python",
      "name": "python",
      "nbconvert_exporter": "python",
      "pygments_lexer": "ipython3",
      "version": "3.7.1"
    },
    "colab": {
      "name": "Copy of SIT719_Prac05_Task02_HD_task_sample _done.ipynb",
      "provenance": []
    }
  },
  "cells": [
    {
      "cell_type": "markdown",
      "metadata": {
        "id": "KMCAl6QJAkeL"
      },
      "source": [
        "# SECTION 1: DECLARE THE MODULES"
      ]
    },
    {
      "cell_type": "code",
      "metadata": {
        "id": "1eiHPzXtAkeO"
      },
      "source": [
        "import os\n",
        "from collections import defaultdict\n",
        "import pandas as pd\n",
        "import numpy as np\n",
        "import matplotlib.pyplot as plt\n",
        "\n",
        "import warnings\n",
        "warnings.filterwarnings('ignore')\n",
        "\n",
        "\n"
      ],
      "execution_count": 1,
      "outputs": []
    },
    {
      "cell_type": "markdown",
      "metadata": {
        "id": "VCo4-yotAkeP"
      },
      "source": [
        "# SECTION 2: Data import and preprocess\n",
        "#Run this but dont worry if it does not make any sense Jump to SECTION 3 that is related to your HD task."
      ]
    },
    {
      "cell_type": "code",
      "metadata": {
        "id": "jLB6ucMQAkeQ",
        "colab": {
          "base_uri": "https://localhost:8080/"
        },
        "outputId": "c4775fcf-e385-49bc-b01d-91aa74864fae"
      },
      "source": [
        "!pip install wget\n",
        "import wget\n",
        "    \n",
        "link_to_data = 'https://raw.githubusercontent.com/SIT719/2020-S2/master/data/Week_5_NSL-KDD-Dataset/training_attack_types.txt?raw=true'\n",
        "DataSet = wget.download(link_to_data) "
      ],
      "execution_count": 2,
      "outputs": [
        {
          "output_type": "stream",
          "name": "stdout",
          "text": [
            "Requirement already satisfied: wget in /usr/local/lib/python3.7/dist-packages (3.2)\n"
          ]
        }
      ]
    },
    {
      "cell_type": "code",
      "metadata": {
        "id": "_s0dzCCjAkeR",
        "colab": {
          "base_uri": "https://localhost:8080/",
          "height": 35
        },
        "outputId": "83b4bbda-4a1b-45c9-e1f0-e07899c4c45c"
      },
      "source": [
        "DataSet"
      ],
      "execution_count": 3,
      "outputs": [
        {
          "output_type": "execute_result",
          "data": {
            "application/vnd.google.colaboratory.intrinsic+json": {
              "type": "string"
            },
            "text/plain": [
              "'training_attack_types (1).txt'"
            ]
          },
          "metadata": {},
          "execution_count": 3
        }
      ]
    },
    {
      "cell_type": "code",
      "metadata": {
        "id": "sy01jN9hAkeR"
      },
      "source": [
        "header_names = ['duration', 'protocol_type', 'service', 'flag', 'src_bytes', 'dst_bytes', 'land', 'wrong_fragment', 'urgent', 'hot', 'num_failed_logins', 'logged_in', 'num_compromised', 'root_shell', 'su_attempted', 'num_root', 'num_file_creations', 'num_shells', 'num_access_files', 'num_outbound_cmds', 'is_host_login', 'is_guest_login', 'count', 'srv_count', 'serror_rate', 'srv_serror_rate', 'rerror_rate', 'srv_rerror_rate', 'same_srv_rate', 'diff_srv_rate', 'srv_diff_host_rate', 'dst_host_count', 'dst_host_srv_count', 'dst_host_same_srv_rate', 'dst_host_diff_srv_rate', 'dst_host_same_src_port_rate', 'dst_host_srv_diff_host_rate', 'dst_host_serror_rate', 'dst_host_srv_serror_rate', 'dst_host_rerror_rate', 'dst_host_srv_rerror_rate', 'attack_type', 'success_pred']\n",
        "\n",
        "\n",
        "# Differentiating between nominal, binary, and numeric features\n",
        "\n",
        "# root_shell is marked as a continuous feature in the kddcup.names \n",
        "# file, but it is supposed to be a binary feature according to the \n",
        "# dataset documentation\n",
        "\n",
        "# training_attack_types.txt maps each of the 22 different attacks to 1 of 4 categories\n",
        "# file obtained from http://kdd.ics.uci.edu/databases/kddcup99/training_attack_types\n",
        "\n",
        "col_names = np.array(header_names)\n",
        "\n",
        "nominal_idx = [1, 2, 3]\n",
        "binary_idx = [6, 11, 13, 14, 20, 21]\n",
        "numeric_idx = list(set(range(41)).difference(nominal_idx).difference(binary_idx))\n",
        "\n",
        "nominal_cols = col_names[nominal_idx].tolist()\n",
        "binary_cols = col_names[binary_idx].tolist()\n",
        "numeric_cols = col_names[numeric_idx].tolist()"
      ],
      "execution_count": 4,
      "outputs": []
    },
    {
      "cell_type": "code",
      "metadata": {
        "id": "KwRGyEczAkeS"
      },
      "source": [
        "# training_attack_types.txt maps each of the 22 different attacks to 1 of 4 categories\n",
        "# file obtained from http://kdd.ics.uci.edu/databases/kddcup99/training_attack_types\n",
        "\n",
        "category = defaultdict(list)\n",
        "category['benign'].append('normal')\n",
        "\n",
        "with open(DataSet, 'r') as f:\n",
        "    for line in f.readlines():\n",
        "        attack, cat = line.strip().split(' ')\n",
        "        category[cat].append(attack)\n",
        "\n",
        "attack_mapping = dict((v,k) for k in category for v in category[k])"
      ],
      "execution_count": 5,
      "outputs": []
    },
    {
      "cell_type": "code",
      "metadata": {
        "id": "2ouseY4zAkeS",
        "colab": {
          "base_uri": "https://localhost:8080/"
        },
        "outputId": "ea784694-6718-4d8d-fe1b-41a9c5d62244"
      },
      "source": [
        "attack_mapping"
      ],
      "execution_count": 6,
      "outputs": [
        {
          "output_type": "execute_result",
          "data": {
            "text/plain": [
              "{'apache2': 'dos',\n",
              " 'back': 'dos',\n",
              " 'buffer_overflow': 'u2r',\n",
              " 'ftp_write': 'r2l',\n",
              " 'guess_passwd': 'r2l',\n",
              " 'httptunnel': 'u2r',\n",
              " 'imap': 'r2l',\n",
              " 'ipsweep': 'probe',\n",
              " 'land': 'dos',\n",
              " 'loadmodule': 'u2r',\n",
              " 'mailbomb': 'dos',\n",
              " 'mscan': 'probe',\n",
              " 'multihop': 'r2l',\n",
              " 'named': 'r2l',\n",
              " 'neptune': 'dos',\n",
              " 'nmap': 'probe',\n",
              " 'normal': 'benign',\n",
              " 'perl': 'u2r',\n",
              " 'phf': 'r2l',\n",
              " 'pod': 'dos',\n",
              " 'portsweep': 'probe',\n",
              " 'processtable': 'dos',\n",
              " 'ps': 'u2r',\n",
              " 'rootkit': 'u2r',\n",
              " 'saint': 'probe',\n",
              " 'satan': 'probe',\n",
              " 'sendmail': 'r2l',\n",
              " 'smurf': 'dos',\n",
              " 'snmpgetattack': 'dos',\n",
              " 'snmpguess': 'r2l',\n",
              " 'spy': 'r2l',\n",
              " 'sqlattack': 'u2r',\n",
              " 'teardrop': 'dos',\n",
              " 'udpstorm': 'dos',\n",
              " 'warezclient': 'r2l',\n",
              " 'warezmaster': 'r2l',\n",
              " 'worm': 'probe',\n",
              " 'xlock': 'r2l',\n",
              " 'xsnoop': 'r2l',\n",
              " 'xterm': 'u2r'}"
            ]
          },
          "metadata": {},
          "execution_count": 6
        }
      ]
    },
    {
      "cell_type": "code",
      "metadata": {
        "id": "eWaK-5-5AkeT"
      },
      "source": [
        "#Processing Training Data\n",
        "\n",
        "train_file='https://raw.githubusercontent.com/SIT719/2020-S2/master/data/Week_5_NSL-KDD-Dataset/KDDTrain%2B.txt'\n",
        "\n",
        "\n",
        "\n",
        "train_df = pd.read_csv(train_file, names=header_names)\n",
        "\n",
        "train_df['attack_category'] = train_df['attack_type'] \\\n",
        "                                .map(lambda x: attack_mapping[x])\n",
        "\n",
        "train_df.drop(['success_pred'], axis=1, inplace=True)\n",
        "\n",
        "\n",
        "\n",
        "\n"
      ],
      "execution_count": 7,
      "outputs": []
    },
    {
      "cell_type": "code",
      "metadata": {
        "id": "cSaPVIJiAkeU"
      },
      "source": [
        "#Processing test Data\n",
        "test_file='https://raw.githubusercontent.com/SIT719/2020-S2/master/data/Week_5_NSL-KDD-Dataset/KDDTest%2B.txt'\n",
        "\n",
        "test_df = pd.read_csv(test_file, names=header_names)\n",
        "test_df['attack_category'] = test_df['attack_type'] \\\n",
        "                                .map(lambda x: attack_mapping[x])\n",
        "test_df.drop(['success_pred'], axis=1, inplace=True)"
      ],
      "execution_count": 8,
      "outputs": []
    },
    {
      "cell_type": "code",
      "metadata": {
        "scrolled": true,
        "id": "uPT5-9ZkAkeU",
        "colab": {
          "base_uri": "https://localhost:8080/",
          "height": 611
        },
        "outputId": "0938a748-1b3a-426d-bf85-64ced6fc98f8"
      },
      "source": [
        "train_attack_types = train_df['attack_type'].value_counts()\n",
        "train_attack_cats = train_df['attack_category'].value_counts()\n",
        "\n",
        "test_attack_types = test_df['attack_type'].value_counts()\n",
        "test_attack_cats = test_df['attack_category'].value_counts()\n",
        "\n",
        "train_attack_types.plot(kind='barh', figsize=(20,10), fontsize=20)\n",
        "\n",
        "train_attack_cats.plot(kind='barh', figsize=(20,10), fontsize=30)\n",
        "\n",
        "train_df[binary_cols].describe().transpose()\n",
        "train_df.groupby(['su_attempted']).size()\n",
        "train_df['su_attempted'].replace(2, 0, inplace=True)\n",
        "test_df['su_attempted'].replace(2, 0, inplace=True)\n",
        "train_df.groupby(['su_attempted']).size()\n",
        "train_df.groupby(['num_outbound_cmds']).size()\n",
        "\n",
        "#Now, that's not a very useful feature - let's drop it from the dataset\n",
        "\n",
        "train_df.drop('num_outbound_cmds', axis = 1, inplace=True)\n",
        "test_df.drop('num_outbound_cmds', axis = 1, inplace=True)\n",
        "numeric_cols.remove('num_outbound_cmds')\n",
        "\n",
        "\n",
        "\n",
        "#Data Preparation\n",
        "\n",
        "train_Y = train_df['attack_category']\n",
        "train_x_raw = train_df.drop(['attack_category','attack_type'], axis=1)\n",
        "test_Y = test_df['attack_category']\n",
        "test_x_raw = test_df.drop(['attack_category','attack_type'], axis=1)\n",
        "\n",
        "\n",
        "combined_df_raw = pd.concat([train_x_raw, test_x_raw])\n",
        "combined_df = pd.get_dummies(combined_df_raw, columns=nominal_cols, drop_first=True)\n",
        "\n",
        "train_x = combined_df[:len(train_x_raw)]\n",
        "test_x = combined_df[len(train_x_raw):]\n",
        "\n",
        "# Store dummy variable feature names\n",
        "dummy_variables = list(set(train_x)-set(combined_df_raw))\n",
        "\n",
        "#execute the commands in console\n",
        "train_x.describe()\n",
        "train_x['duration'].describe()\n",
        "# Experimenting with StandardScaler on the single 'duration' feature\n",
        "from sklearn.preprocessing import StandardScaler\n",
        "\n",
        "durations = train_x['duration'].values.reshape(-1, 1)\n",
        "standard_scaler = StandardScaler().fit(durations)\n",
        "scaled_durations = standard_scaler.transform(durations)\n",
        "pd.Series(scaled_durations.flatten()).describe()\n",
        "\n",
        "# Experimenting with MinMaxScaler on the single 'duration' feature\n",
        "from sklearn.preprocessing import MinMaxScaler\n",
        "\n",
        "min_max_scaler = MinMaxScaler().fit(durations)\n",
        "min_max_scaled_durations = min_max_scaler.transform(durations)\n",
        "pd.Series(min_max_scaled_durations.flatten()).describe()\n",
        "\n",
        "# Experimenting with RobustScaler on the single 'duration' feature\n",
        "from sklearn.preprocessing import RobustScaler\n",
        "\n",
        "min_max_scaler = RobustScaler().fit(durations)\n",
        "robust_scaled_durations = min_max_scaler.transform(durations)\n",
        "pd.Series(robust_scaled_durations.flatten()).describe()\n",
        "\n",
        "# Experimenting with MaxAbsScaler on the single 'duration' feature\n",
        "from sklearn.preprocessing import MaxAbsScaler\n",
        "\n",
        "max_Abs_scaler = MaxAbsScaler().fit(durations)\n",
        "robust_scaled_durations = max_Abs_scaler.transform(durations)\n",
        "pd.Series(robust_scaled_durations.flatten()).describe()\n",
        "\n",
        "# Let's proceed with StandardScaler- Apply to all the numeric columns\n",
        "\n",
        "standard_scaler = StandardScaler().fit(train_x[numeric_cols])\n",
        "\n",
        "train_x[numeric_cols] = \\\n",
        "    standard_scaler.transform(train_x[numeric_cols])\n",
        "\n",
        "test_x[numeric_cols] = \\\n",
        "    standard_scaler.transform(test_x[numeric_cols])\n",
        "    \n",
        "train_x.describe()\n",
        "\n",
        "\n",
        "\n",
        "train_Y_bin = train_Y.apply(lambda x: 0 if x is 'benign' else 1)\n",
        "test_Y_bin = test_Y.apply(lambda x: 0 if x is 'benign' else 1)\n"
      ],
      "execution_count": 9,
      "outputs": [
        {
          "output_type": "display_data",
          "data": {
            "image/png": "[encoded data removed]",
            "text/plain": [
              "<Figure size 1440x720 with 1 Axes>"
            ]
          },
          "metadata": {
            "needs_background": "light"
          }
        }
      ]
    },
    {
      "cell_type": "markdown",
      "metadata": {
        "id": "QFFzI_4TAkeW"
      },
      "source": [
        "# SECTION 3: Multi class classification\n",
        "#This is the section where you have to add other algorithms, tune algorithms and visualize to compare and analyze algorithms"
      ]
    },
    {
      "cell_type": "code",
      "metadata": {
        "id": "GVZCRgcaAkeW",
        "colab": {
          "base_uri": "https://localhost:8080/"
        },
        "outputId": "f39dadf2-ecfd-4897-fa92-ef2ca1f649a9"
      },
      "source": [
        "# 5-class classification version\n",
        "from sklearn.tree import DecisionTreeClassifier\n",
        "from sklearn.metrics import confusion_matrix, zero_one_loss\n",
        "\n",
        "classifier = DecisionTreeClassifier(random_state=17)\n",
        "classifier.fit(train_x, train_Y)\n",
        "\n",
        "pred_y = classifier.predict(test_x)\n",
        "\n",
        "results = confusion_matrix(test_Y, pred_y)\n",
        "error = zero_one_loss(test_Y, pred_y)\n",
        "\n",
        "print(results)\n",
        "print(error)\n"
      ],
      "execution_count": 10,
      "outputs": [
        {
          "output_type": "stream",
          "name": "stdout",
          "text": [
            "[[9365   56  289    1    0]\n",
            " [1541 5998   97    0    0]\n",
            " [ 677  220 1526    0    0]\n",
            " [2278    1   14  277    4]\n",
            " [ 175    0    5    5   15]]\n",
            "0.2378903477643719\n"
          ]
        }
      ]
    },
    {
      "cell_type": "code",
      "metadata": {
        "id": "wOsWMu-bAkeW",
        "colab": {
          "base_uri": "https://localhost:8080/"
        },
        "outputId": "016c761c-7886-4a27-a440-1112f45201d9"
      },
      "source": [
        "# 5-class classification version SGD CLASSIFIER ALONE\n",
        "from sklearn.linear_model import SGDClassifier\n",
        "from sklearn.preprocessing import StandardScaler\n",
        "\n",
        "from sklearn.metrics import confusion_matrix, zero_one_loss\n",
        "\n",
        "\n",
        "classifier = SGDClassifier(random_state=17)\n",
        "classifier.fit(train_x, train_Y)\n",
        "\n",
        "pred_y = classifier.predict(test_x)\n",
        "\n",
        "results = confusion_matrix(test_Y, pred_y)\n",
        "error = zero_one_loss(test_Y, pred_y)\n",
        "\n",
        "print(results)\n",
        "print(error)"
      ],
      "execution_count": 11,
      "outputs": [
        {
          "output_type": "stream",
          "name": "stdout",
          "text": [
            "[[9010  280  419    1    1]\n",
            " [1555 6059   22    0    0]\n",
            " [ 805  131 1487    0    0]\n",
            " [2562    3    4    5    0]\n",
            " [ 195    3    0    0    2]]\n",
            "0.2653034066713982\n"
          ]
        }
      ]
    },
    {
      "cell_type": "code",
      "metadata": {
        "id": "dcCOZ8oNCNRq",
        "colab": {
          "base_uri": "https://localhost:8080/"
        },
        "outputId": "e7fb5f50-658c-45a4-ece7-1f8359bb5c75"
      },
      "source": [
        "# 5-class classification version  SGD CLASSIFIER WITH PIPELINE\n",
        "from sklearn.linear_model import SGDClassifier\n",
        "from sklearn.preprocessing import StandardScaler\n",
        "from sklearn.pipeline import make_pipeline\n",
        "from sklearn.pipeline import Pipeline\n",
        "from sklearn.metrics import confusion_matrix, zero_one_loss\n",
        "\n",
        "# scaling the input using a pipeline\n",
        "classifier = make_pipeline(StandardScaler(), SGDClassifier(max_iter=1000, tol=1e-3))\n",
        "classifier.fit(train_x, train_Y)\n",
        "Pipeline(steps=[('standardscaler', StandardScaler()), ('sgdclassifier', SGDClassifier(random_state = 17))])\n",
        "\n",
        "pred_y = classifier.predict(test_x)\n",
        "\n",
        "results = confusion_matrix(test_Y, pred_y)\n",
        "error = zero_one_loss(test_Y, pred_y)\n",
        "\n",
        "print(results)\n",
        "print(error)"
      ],
      "execution_count": 12,
      "outputs": [
        {
          "output_type": "stream",
          "name": "stdout",
          "text": [
            "[[9069  444  193    4    1]\n",
            " [1390 6228   18    0    0]\n",
            " [ 824  101 1498    0    0]\n",
            " [2564    2    3    5    0]\n",
            " [ 199    1    0    0    0]]\n",
            "0.2547906316536551\n"
          ]
        }
      ]
    },
    {
      "cell_type": "code",
      "metadata": {
        "id": "gtMQ1RdCNn75"
      },
      "source": [
        "from sklearn.neural_network import MLPClassifier\n",
        "from sklearn.neighbors import KNeighborsClassifier\n",
        "from sklearn.svm import SVC\n",
        "from sklearn.gaussian_process import GaussianProcessClassifier\n",
        "from sklearn.ensemble import GradientBoostingClassifier\n",
        "from sklearn.gaussian_process.kernels import RBF\n",
        "from sklearn.tree import DecisionTreeClassifier\n",
        "from sklearn.ensemble import ExtraTreesClassifier\n",
        "from sklearn.ensemble import RandomForestClassifier, AdaBoostClassifier\n",
        "from sklearn.naive_bayes import GaussianNB\n",
        "from sklearn.discriminant_analysis import QuadraticDiscriminantAnalysis\n",
        "from sklearn.linear_model import SGDClassifier\n",
        "\n"
      ],
      "execution_count": 40,
      "outputs": []
    },
    {
      "cell_type": "code",
      "metadata": {
        "id": "EDExu6OsQT63"
      },
      "source": [
        "names = ['Nearest_Neighbors', 'Linear_SVM', 'Polynomial_SVM', 'RBF_SVM', 'Gaussian_Pocess', 'Gradient_Boosting', 'Decision_Tree', 'Extra_Trees', 'Random_Forest', 'Neural_Net', 'AdaBoost', 'Naive_Bayes', 'QDA', 'SGD']\n",
        "\n",
        "classifiers = [\n",
        "               KNeighborsClassifier(3), \n",
        "               SVC(kernel='linear', C=0.025), \n",
        "               SVC(kernel='poly', degree=3, C=0.025),\n",
        "               SVC(kernel='rbf', C=1, gamma=2),\n",
        "               GaussianProcessClassifier(1.0 * RBF(1.0)),\n",
        "               GradientBoostingClassifier(n_estimators=100, learning_rate=1.0),\n",
        "               DecisionTreeClassifier(max_depth=5),\n",
        "               ExtraTreesClassifier(n_estimators=10, min_samples_split=2),\n",
        "               RandomForestClassifier(max_depth=5, n_estimators=100),\n",
        "               MLPClassifier(alpha=1, max_iter=1000),\n",
        "               AdaBoostClassifier(n_estimators=100),\n",
        "               GaussianNB(),\n",
        "               QuadraticDiscriminantAnalysis(),\n",
        "               SGDClassifier(loss='hinge', penalty='l2')]"
      ],
      "execution_count": 41,
      "outputs": []
    },
    {
      "cell_type": "code",
      "metadata": {
        "id": "C_EgW2Fup8l4"
      },
      "source": [
        "names = ['Linear_SVM']\n",
        "\n",
        "classifiers = [\n",
        "               SVC(kernel='linear', C=0.025)]"
      ],
      "execution_count": 32,
      "outputs": []
    },
    {
      "cell_type": "code",
      "metadata": {
        "id": "3SFh2Lrtj0u1"
      },
      "source": [
        "# iterate over classifiers\n",
        "scores = []\n",
        "for name, classifier in zip(names, classifiers):\n",
        "  classifier.fit(train_x, train_Y)\n",
        "  score = classifier.score(test_x, test_Y)\n",
        "  scores.append(score)"
      ],
      "execution_count": null,
      "outputs": []
    },
    {
      "cell_type": "code",
      "metadata": {
        "id": "B2CMCCjgkMn9",
        "colab": {
          "base_uri": "https://localhost:8080/"
        },
        "outputId": "e8a2fa49-12d7-4f14-d31f-95da67ec4fbb"
      },
      "source": [
        "scores"
      ],
      "execution_count": 34,
      "outputs": [
        {
          "output_type": "execute_result",
          "data": {
            "text/plain": [
              "[0.7488023420865862]"
            ]
          },
          "metadata": {},
          "execution_count": 34
        }
      ]
    },
    {
      "cell_type": "code",
      "metadata": {
        "id": "EThNxkRsk5dG"
      },
      "source": [
        "import seaborn as sns"
      ],
      "execution_count": 36,
      "outputs": []
    },
    {
      "cell_type": "code",
      "metadata": {
        "id": "q8Hk4DVxlAnY",
        "colab": {
          "base_uri": "https://localhost:8080/",
          "height": 80
        },
        "outputId": "d42ce088-a9ed-4cc6-e272-9357e104b5d6"
      },
      "source": [
        "df = pd.DataFrame()\n",
        "df['name'] = names\n",
        "df['score'] = scores\n",
        "df"
      ],
      "execution_count": 37,
      "outputs": [
        {
          "output_type": "execute_result",
          "data": {
            "text/html": [
              "<div>\n",
              "<style scoped>\n",
              "    .dataframe tbody tr th:only-of-type {\n",
              "        vertical-align: middle;\n",
              "    }\n",
              "\n",
              "    .dataframe tbody tr th {\n",
              "        vertical-align: top;\n",
              "    }\n",
              "\n",
              "    .dataframe thead th {\n",
              "        text-align: right;\n",
              "    }\n",
              "</style>\n",
              "<table border=\"1\" class=\"dataframe\">\n",
              "  <thead>\n",
              "    <tr style=\"text-align: right;\">\n",
              "      <th></th>\n",
              "      <th>name</th>\n",
              "      <th>score</th>\n",
              "    </tr>\n",
              "  </thead>\n",
              "  <tbody>\n",
              "    <tr>\n",
              "      <th>0</th>\n",
              "      <td>Linear_SVM</td>\n",
              "      <td>0.748802</td>\n",
              "    </tr>\n",
              "  </tbody>\n",
              "</table>\n",
              "</div>"
            ],
            "text/plain": [
              "         name     score\n",
              "0  Linear_SVM  0.748802"
            ]
          },
          "metadata": {},
          "execution_count": 37
        }
      ]
    },
    {
      "cell_type": "code",
      "metadata": {
        "id": "Mci3uCgnlL03",
        "colab": {
          "base_uri": "https://localhost:8080/",
          "height": 61
        },
        "outputId": "ec0c308a-7a09-41db-99bb-31769ff39727"
      },
      "source": [
        "# https://pandas.pydata.org/pandas-docs/stable/user_guide/style.html\n",
        "\n",
        "cm = sns.light_palette('green', as_cmap=True)\n",
        "s = df.style.background_gradient(cmap=cm)\n",
        "s"
      ],
      "execution_count": 38,
      "outputs": [
        {
          "output_type": "execute_result",
          "data": {
            "text/html": [
              "<style  type=\"text/css\" >\n",
              "#T_51a8022a_0e3d_11ec_86a4_0242ac1c0002row0_col1{\n",
              "            background-color:  #ebf3eb;\n",
              "            color:  #000000;\n",
              "        }</style><table id=\"T_51a8022a_0e3d_11ec_86a4_0242ac1c0002\" ><thead>    <tr>        <th class=\"blank level0\" ></th>        <th class=\"col_heading level0 col0\" >name</th>        <th class=\"col_heading level0 col1\" >score</th>    </tr></thead><tbody>\n",
              "                <tr>\n",
              "                        <th id=\"T_51a8022a_0e3d_11ec_86a4_0242ac1c0002level0_row0\" class=\"row_heading level0 row0\" >0</th>\n",
              "                        <td id=\"T_51a8022a_0e3d_11ec_86a4_0242ac1c0002row0_col0\" class=\"data row0 col0\" >Linear_SVM</td>\n",
              "                        <td id=\"T_51a8022a_0e3d_11ec_86a4_0242ac1c0002row0_col1\" class=\"data row0 col1\" >0.748802</td>\n",
              "            </tr>\n",
              "    </tbody></table>"
            ],
            "text/plain": [
              "<pandas.io.formats.style.Styler at 0x7f47956be790>"
            ]
          },
          "metadata": {},
          "execution_count": 38
        }
      ]
    },
    {
      "cell_type": "code",
      "metadata": {
        "id": "tPa8JU_PluS6",
        "colab": {
          "base_uri": "https://localhost:8080/",
          "height": 285
        },
        "outputId": "e5332121-872b-47fb-beb5-9793385218cf"
      },
      "source": [
        "sns.set(style='whitegrid')\n",
        "ax = sns.barplot(y='name', x='score', data=df)"
      ],
      "execution_count": 39,
      "outputs": [
        {
          "output_type": "display_data",
          "data": {
            "image/png": "[encoded data removed]",
            "text/plain": [
              "<Figure size 432x288 with 1 Axes>"
            ]
          },
          "metadata": {}
        }
      ]
    }
  ]
}